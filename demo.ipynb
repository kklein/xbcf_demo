{
 "cells": [
  {
   "cell_type": "markdown",
   "id": "6a4bddd8",
   "metadata": {},
   "source": [
    "Strongly influenced by https://johaupt.github.io/blog/xbcf.html"
   ]
  },
  {
   "cell_type": "code",
   "execution_count": null,
   "id": "e2d66337",
   "metadata": {},
   "outputs": [],
   "source": [
    "import numpy as np\n",
    "from xbcausalforest import XBCF\n",
    "import seaborn as sns\n",
    "import matplotlib.pyplot as plt"
   ]
  },
  {
   "cell_type": "code",
   "execution_count": null,
   "id": "1d13f14b",
   "metadata": {},
   "outputs": [],
   "source": [
    "n_observations = 20000\n",
    "treatment_fraction = 0.5\n",
    "\n",
    "# Hyperparameters suggested in section 5.2 of\n",
    "# https://projecteuclid.org/journals/bayesian-analysis/volume-15/issue-3/Bayesian-Regression-Tree-Models-for-Causal-Inference--Regularization-Confounding/10.1214/19-BA1195.full\n",
    "n_trees_prognostic = 200\n",
    "n_trees_treatment = 50\n",
    "alpha_prognostic = .95\n",
    "alpha_treatment = .25\n",
    "beta_prognostic = 2\n",
    "beta_treatment = 3"
   ]
  },
  {
   "cell_type": "markdown",
   "id": "28cf3531",
   "metadata": {},
   "source": [
    "## 1. Generate data"
   ]
  },
  {
   "cell_type": "code",
   "execution_count": null,
   "id": "012983d8",
   "metadata": {},
   "outputs": [],
   "source": [
    "rng = np.random.default_rng(42)"
   ]
  },
  {
   "cell_type": "code",
   "execution_count": null,
   "id": "ae4a34d2",
   "metadata": {},
   "outputs": [],
   "source": [
    "def generate_covariates(n):\n",
    "    return rng.multivariate_normal(\n",
    "        [0, 0], np.array([[1, 0.1], [0.1, 1]]), size=(n,)\n",
    "    )"
   ]
  },
  {
   "cell_type": "code",
   "execution_count": null,
   "id": "ea15b681",
   "metadata": {},
   "outputs": [],
   "source": [
    "def data_generating_process(X, propensity=treatment_fraction):\n",
    "    n = X.shape[0]\n",
    "    z = rng.binomial(1, propensity, size=(n,)).astype(\"int32\")\n",
    "    mu = (\n",
    "        100\n",
    "        + 5 * X[:, 0]\n",
    "        - 5 * X[:, 1]\n",
    "        + 2 * X[:, 0] ** 2\n",
    "        + 5 * X[:, 0] * X[:, 1]\n",
    "    )\n",
    "    prognostic_effect = np.random.normal(mu, scale=2, size=(n_observations,))\n",
    "    tau = (\n",
    "        2\n",
    "        + 0.5 * X[:, 1] \n",
    "        + 0.5 * X[:, 1] ** 2 \n",
    "        - 0.5 * X[:, 0] ** 2 \n",
    "        - 3 * (X[:, 0] > 0)\n",
    "    )\n",
    "    y = prognostic_effect + z * tau\n",
    "    return y, z, tau"
   ]
  },
  {
   "cell_type": "code",
   "execution_count": null,
   "id": "7a4250ec",
   "metadata": {},
   "outputs": [],
   "source": [
    "X = generate_covariates(n_observations)\n",
    "X_test = generate_covariates(n_observations)\n",
    "\n",
    "y, z, tau = data_generating_process(X)\n",
    "_, _, tau_test = data_generating_process(X_test)"
   ]
  },
  {
   "cell_type": "markdown",
   "id": "2c626e08",
   "metadata": {},
   "source": [
    "## 2. Sanity check of data"
   ]
  },
  {
   "cell_type": "code",
   "execution_count": null,
   "id": "2fba1685",
   "metadata": {},
   "outputs": [],
   "source": [
    "y[z==0].mean(), y[z==0].std()"
   ]
  },
  {
   "cell_type": "code",
   "execution_count": null,
   "id": "fb11f6d0",
   "metadata": {},
   "outputs": [],
   "source": [
    "tau.mean(), tau.std()"
   ]
  },
  {
   "cell_type": "code",
   "execution_count": null,
   "id": "e21b6f70",
   "metadata": {},
   "outputs": [],
   "source": [
    "tau.min(), tau.mean(), tau.max()"
   ]
  },
  {
   "cell_type": "code",
   "execution_count": null,
   "id": "84df3a0e",
   "metadata": {},
   "outputs": [],
   "source": [
    "fig, ax = plt.subplots()\n",
    "ax.hist(y[z==0], alpha=.6, bins=40, density=True, label=\"control\")\n",
    "ax.hist(y[z==1], alpha=.6, bins=40, density=True, label=\"treatment\")\n",
    "ax.axvline(y[z==0].mean(), label=\"avg(control outcome)\")\n",
    "ax.axvline(y[z==1].mean(), label=\"avg(treatment outcome)\")\n",
    "ax.set_xlabel(\"outcome\")\n",
    "ax.legend()"
   ]
  },
  {
   "cell_type": "code",
   "execution_count": null,
   "id": "8bfcc33f",
   "metadata": {},
   "outputs": [],
   "source": [
    "sns.kdeplot(tau)"
   ]
  },
  {
   "cell_type": "code",
   "execution_count": null,
   "id": "05c3bf2e",
   "metadata": {},
   "outputs": [],
   "source": [
    "fig, axes = plt.subplots(2, 2, sharey=False, sharex=True, figsize=(10,8))\n",
    "axes[0, 0].scatter(X[z==0, 0], y[z==0])\n",
    "axes[0, 1].scatter(X[z==0, 1], y[z==0])\n",
    "axes[1, 0].scatter(X[z==1, 0], tau[z==1])\n",
    "axes[1, 1].scatter(X[z==1, 1], tau[z==1])\n",
    "axes[0, 0].set_ylabel(\"outcome\")\n",
    "axes[1, 0].set_ylabel(\"treatment effect\")\n",
    "axes[1, 0].set_xlabel(\"X_1\")\n",
    "axes[1, 1].set_xlabel(\"X_2\")"
   ]
  },
  {
   "cell_type": "markdown",
   "id": "2009de13",
   "metadata": {},
   "source": [
    "## 3. Estimation"
   ]
  },
  {
   "cell_type": "code",
   "execution_count": null,
   "id": "c4a41cbd",
   "metadata": {},
   "outputs": [],
   "source": [
    "xbcf = XBCF(\n",
    "    parallel=True,\n",
    "    num_sweeps=50,\n",
    "    burnin=15,\n",
    "    max_depth=250,\n",
    "    num_trees_pr=n_trees_prognostic,\n",
    "    num_trees_trt=n_trees_treatment,\n",
    "    num_cutpoints=100,\n",
    "    Nmin=1,\n",
    "    tau_pr=0.6 * np.var(y) / n_trees_prognostic,\n",
    "    tau_trt=0.1 * np.var(y) / n_trees_treatment,\n",
    "    alpha_pr=alpha_prognostic,\n",
    "    beta_pr=beta_prognostic,\n",
    "    alpha_trt=alpha_treatment,\n",
    "    beta_trt=beta_treatment,\n",
    "    p_categorical_pr=0,\n",
    "    p_categorical_trt=0,\n",
    "    standardize_target=True,\n",
    ")"
   ]
  },
  {
   "cell_type": "code",
   "execution_count": null,
   "id": "e17f3109",
   "metadata": {},
   "outputs": [],
   "source": [
    "xbcf.fit(x_t=X, x=X, y=y, z=z)"
   ]
  },
  {
   "cell_type": "code",
   "execution_count": null,
   "id": "f2517d8a",
   "metadata": {},
   "outputs": [],
   "source": [
    "tau_hat = xbcf.predict(X_test, return_mean=True)"
   ]
  },
  {
   "cell_type": "code",
   "execution_count": null,
   "id": "fc847508",
   "metadata": {},
   "outputs": [],
   "source": [
    "np.mean(tau_test), np.mean(tau_hat)"
   ]
  },
  {
   "cell_type": "code",
   "execution_count": null,
   "id": "de3e2a4a",
   "metadata": {},
   "outputs": [],
   "source": [
    "fig, ax = plt.subplots(figsize=[4,4])\n",
    "ax.set_xlim([-10,10])\n",
    "ax.set_ylim([-10,10])\n",
    "ax.scatter(tau_test, tau_hat, alpha=0.5)\n",
    "ax.set_xlabel('True effect')\n",
    "ax.set_ylabel('XBCF prediction');"
   ]
  },
  {
   "cell_type": "code",
   "execution_count": null,
   "id": "b9e484cc",
   "metadata": {},
   "outputs": [],
   "source": [
    "fig, axes = plt.subplots(1, 2, figsize=[10, 4])\n",
    "axes[0].scatter(X_test[:, 0], tau_test, label=\"true value\")\n",
    "axes[0].scatter(X_test[:, 0], tau_hat, alpha=.2, label=\"estimate\")\n",
    "axes[0].set_xlabel(\"X_1\")\n",
    "axes[0].set_ylabel(\"tau\")\n",
    "axes[0].legend()\n",
    "\n",
    "axes[1].scatter(X_test[:, 1], tau_test, label=\"true value\")\n",
    "axes[1].scatter(X_test[:, 1], tau_hat, alpha=0.2, label=\"estimate\")\n",
    "axes[1].set_xlabel(\"X_2\")\n",
    "axes[1].set_ylabel(\"tau\")\n",
    "axes[1].legend()"
   ]
  },
  {
   "cell_type": "code",
   "execution_count": null,
   "id": "bafdfff3",
   "metadata": {},
   "outputs": [],
   "source": [
    "tau_posterior = xbcf.predict(X_test, return_mean=False)[:, xbcf.getParams()['burnin']:]"
   ]
  },
  {
   "cell_type": "code",
   "execution_count": null,
   "id": "e089e5ef",
   "metadata": {},
   "outputs": [],
   "source": [
    "# 1 - .1 credible interval on tau hat for first 5 units\n",
    "np.quantile(tau_posterior[:5], [0.05,0.95], axis=1).T"
   ]
  }
 ],
 "metadata": {
  "kernelspec": {
   "display_name": "Python 3 (ipykernel)",
   "language": "python",
   "name": "python3"
  },
  "language_info": {
   "codemirror_mode": {
    "name": "ipython",
    "version": 3
   },
   "file_extension": ".py",
   "mimetype": "text/x-python",
   "name": "python",
   "nbconvert_exporter": "python",
   "pygments_lexer": "ipython3",
   "version": "3.10.6"
  }
 },
 "nbformat": 4,
 "nbformat_minor": 5
}
